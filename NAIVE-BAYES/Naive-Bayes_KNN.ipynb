{
 "cells": [
  {
   "cell_type": "code",
   "execution_count": 1,
   "metadata": {},
   "outputs": [
    {
     "data": {
      "application/javascript": [
       "\n",
       "        if (window._pyforest_update_imports_cell) { window._pyforest_update_imports_cell('import pandas as pd'); }\n",
       "    "
      ],
      "text/plain": [
       "<IPython.core.display.Javascript object>"
      ]
     },
     "metadata": {},
     "output_type": "display_data"
    }
   ],
   "source": [
    "cr = pd.read_csv('C:/Users/shubh/Pranjal Sir class/fwd/CreditRisk.csv')\n",
    "cr.Credit_History = cr.Credit_History.fillna(1)\n",
    "cr.Gender = cr.Gender.fillna(\"Male\")\n",
    "cr.Married = cr.Married.fillna(\"No\")\n",
    "cr.Dependents = cr.Dependents.fillna(0)\n",
    "cr.Self_Employed = cr.Self_Employed.fillna(\"Yes\")\n",
    "cr.LoanAmount = cr.LoanAmount.fillna( cr.LoanAmount.mean() )\n",
    "\n",
    "cr.Loan_Amount_Term = cr.Loan_Amount_Term.fillna(cr.Loan_Amount_Term.mean())\n",
    "from sklearn.preprocessing import LabelEncoder\n",
    "le = LabelEncoder()\n",
    "cr.Loan_Status = le.fit_transform(cr.Loan_Status)\n",
    "\n",
    "cr.Gender = le.fit_transform(cr.Gender)\n",
    "cr.Married = le.fit_transform(cr.Married)\n",
    "cr.Education = le.fit_transform(cr.Education)\n",
    "cr.Self_Employed = le.fit_transform(cr.Self_Employed)\n",
    "cr.Property_Area = le.fit_transform(cr.Property_Area)\n",
    "\n",
    "cr1 = cr\n",
    "from sklearn.model_selection import train_test_split\n",
    "cr = cr.iloc[: , 1::]\n",
    "cr_train , cr_test = train_test_split(cr, test_size = .2)\n"
   ]
  },
  {
   "cell_type": "code",
   "execution_count": 3,
   "metadata": {},
   "outputs": [],
   "source": [
    "cr_train_x = cr_train.iloc[:,0:-1]\n",
    "cr_train_y = cr_train.iloc[:,-1]\n",
    "\n",
    "cr_test_x = cr_test.iloc[:,0:-1]\n",
    "cr_test_y = cr_test.iloc[:,-1]"
   ]
  },
  {
   "cell_type": "markdown",
   "metadata": {},
   "source": [
    "# Naive Bayes"
   ]
  },
  {
   "cell_type": "code",
   "execution_count": 4,
   "metadata": {},
   "outputs": [],
   "source": [
    "from sklearn.naive_bayes import MultinomialNB"
   ]
  },
  {
   "cell_type": "code",
   "execution_count": 5,
   "metadata": {},
   "outputs": [
    {
     "data": {
      "text/plain": [
       "MultinomialNB()"
      ]
     },
     "execution_count": 5,
     "metadata": {},
     "output_type": "execute_result"
    }
   ],
   "source": [
    "nb_cr = MultinomialNB()\n",
    "nb_cr.fit(cr_train_x, cr_train_y)"
   ]
  },
  {
   "cell_type": "code",
   "execution_count": 6,
   "metadata": {},
   "outputs": [],
   "source": [
    "pred_cr_nb = nb_cr.predict(cr_test_x)"
   ]
  },
  {
   "cell_type": "code",
   "execution_count": 7,
   "metadata": {},
   "outputs": [],
   "source": [
    "from sklearn.metrics import confusion_matrix"
   ]
  },
  {
   "cell_type": "code",
   "execution_count": 9,
   "metadata": {},
   "outputs": [
    {
     "data": {
      "text/plain": [
       "array([[30, 70],\n",
       "       [26, 71]], dtype=int64)"
      ]
     },
     "execution_count": 9,
     "metadata": {},
     "output_type": "execute_result"
    }
   ],
   "source": [
    "tab_nb = confusion_matrix(pred_cr_nb,  cr_test_y)\n",
    "tab_nb"
   ]
  },
  {
   "cell_type": "code",
   "execution_count": 10,
   "metadata": {},
   "outputs": [],
   "source": [
    "# prediction with decision tree"
   ]
  },
  {
   "cell_type": "code",
   "execution_count": 11,
   "metadata": {},
   "outputs": [
    {
     "data": {
      "text/plain": [
       "array([[ 38,  19],\n",
       "       [ 18, 122]], dtype=int64)"
      ]
     },
     "execution_count": 11,
     "metadata": {},
     "output_type": "execute_result"
    }
   ],
   "source": [
    "from sklearn.tree import DecisionTreeClassifier\n",
    "dt = DecisionTreeClassifier()\n",
    "dt.fit(cr_train_x, cr_train_y)\n",
    "dt_pred = dt.predict(cr_test_x)\n",
    "tab_dt = confusion_matrix(dt_pred,  cr_test_y)\n",
    "tab_dt"
   ]
  },
  {
   "cell_type": "code",
   "execution_count": 12,
   "metadata": {},
   "outputs": [
    {
     "data": {
      "text/plain": [
       "array([[ 34,   3],\n",
       "       [ 22, 138]], dtype=int64)"
      ]
     },
     "execution_count": 12,
     "metadata": {},
     "output_type": "execute_result"
    }
   ],
   "source": [
    "from sklearn.ensemble import RandomForestClassifier\n",
    "rfc = RandomForestClassifier()\n",
    "rfc.fit(cr_train_x, cr_train_y)\n",
    "rfc_pred = rfc.predict(cr_test_x)\n",
    "tab_rfc = confusion_matrix(rfc_pred,  cr_test_y)\n",
    "tab_rfc"
   ]
  },
  {
   "cell_type": "code",
   "execution_count": null,
   "metadata": {},
   "outputs": [],
   "source": [
    "from sklearn.tree import DecisionTreeClassifier\n",
    "dt = DecisionTreeClassifier()\n",
    "dt.fit(cr_train_x, cr_train_y)\n",
    "dt_pred = dt.predict(cr_test_x)\n",
    "tab_dt = confusion_matrix(dt_pred,  cr_test_y)\n",
    "tab_dt"
   ]
  },
  {
   "cell_type": "code",
   "execution_count": 16,
   "metadata": {},
   "outputs": [
    {
     "name": "stdout",
     "output_type": "stream",
     "text": [
      "81.21827411167513\n",
      "51.26903553299493\n",
      "87.30964467005076\n"
     ]
    }
   ],
   "source": [
    "Acc_dt = tab_dt.diagonal().sum()*100/ tab_dt.sum()\n",
    "Acc_nb = tab_nb.diagonal().sum()*100/ tab_nb.sum()\n",
    "Acc_rfc = tab_rfc.diagonal().sum()*100/ tab_rfc.sum()\n",
    "print(Acc_dt)\n",
    "print(Acc_nb)\n",
    "print(Acc_rfc)"
   ]
  },
  {
   "cell_type": "markdown",
   "metadata": {},
   "source": [
    "## KNN"
   ]
  },
  {
   "cell_type": "code",
   "execution_count": 18,
   "metadata": {},
   "outputs": [],
   "source": [
    "from sklearn.neighbors import KNeighborsClassifier\n",
    "knn = KNeighborsClassifier(n_neighbors=5)"
   ]
  },
  {
   "cell_type": "code",
   "execution_count": 19,
   "metadata": {},
   "outputs": [
    {
     "data": {
      "text/plain": [
       "KNeighborsClassifier()"
      ]
     },
     "execution_count": 19,
     "metadata": {},
     "output_type": "execute_result"
    }
   ],
   "source": [
    "knn.fit(cr_train_x, cr_train_y)"
   ]
  },
  {
   "cell_type": "code",
   "execution_count": 20,
   "metadata": {},
   "outputs": [],
   "source": [
    "pred_knn = knn.predict(cr_test_x)"
   ]
  },
  {
   "cell_type": "code",
   "execution_count": 21,
   "metadata": {},
   "outputs": [
    {
     "data": {
      "text/plain": [
       "array([[ 11,  18],\n",
       "       [ 45, 123]], dtype=int64)"
      ]
     },
     "execution_count": 21,
     "metadata": {},
     "output_type": "execute_result"
    }
   ],
   "source": [
    "tab_knn = confusion_matrix(pred_knn, cr_test_y)\n",
    "tab_knn"
   ]
  },
  {
   "cell_type": "code",
   "execution_count": 26,
   "metadata": {},
   "outputs": [
    {
     "name": "stdout",
     "output_type": "stream",
     "text": [
      "[58.88324873096447, 55.83756345177665, 68.02030456852792, 60.40609137055838, 68.02030456852792, 64.9746192893401, 69.54314720812182, 63.95939086294416, 70.05076142131979, 67.51269035532995, 71.06598984771574, 70.05076142131979, 72.58883248730965, 72.58883248730965, 74.11167512690355, 74.61928934010152, 73.60406091370558, 72.58883248730965, 72.58883248730965, 71.57360406091371, 71.57360406091371, 70.55837563451777, 72.08121827411168, 71.57360406091371, 72.08121827411168, 71.57360406091371, 71.06598984771574, 72.08121827411168, 71.57360406091371, 71.06598984771574, 71.06598984771574, 71.06598984771574, 71.57360406091371, 71.57360406091371, 71.57360406091371, 71.57360406091371, 71.57360406091371, 71.57360406091371, 71.57360406091371, 71.57360406091371, 71.57360406091371, 71.57360406091371, 71.57360406091371, 71.57360406091371, 71.57360406091371, 71.57360406091371, 71.57360406091371, 71.57360406091371, 71.57360406091371]\n"
     ]
    }
   ],
   "source": [
    "l1 = list(range(1,50))\n",
    "Acc_all = []\n",
    "for i in l1:\n",
    "    knn = KNeighborsClassifier(n_neighbors=i)\n",
    "    knn.fit(cr_train_x, cr_train_y)\n",
    "    pred_knn = knn.predict(cr_test_x)\n",
    "    tab_knn = confusion_matrix(pred_knn, cr_test_y)\n",
    "    Acc = tab_knn.diagonal().sum()*100/ tab_knn.sum()\n",
    "    Acc_all.append(Acc)\n",
    "print(Acc_all)    "
   ]
  },
  {
   "cell_type": "code",
   "execution_count": 29,
   "metadata": {},
   "outputs": [
    {
     "data": {
      "image/png": "[encoded data removed]",
      "text/plain": [
       "<Figure size 720x720 with 1 Axes>"
      ]
     },
     "metadata": {
      "needs_background": "light"
     },
     "output_type": "display_data"
    }
   ],
   "source": [
    "import matplotlib.pyplot as plt\n",
    "plt.figure(figsize=(10,10))\n",
    "plt.plot(l1,Acc_all, \".\")\n",
    "plt.grid()"
   ]
  },
  {
   "cell_type": "code",
   "execution_count": null,
   "metadata": {},
   "outputs": [],
   "source": []
  }
 ],
 "metadata": {
  "kernelspec": {
   "display_name": "Python 3",
   "language": "python",
   "name": "python3"
  },
  "language_info": {
   "codemirror_mode": {
    "name": "ipython",
    "version": 3
   },
   "file_extension": ".py",
   "mimetype": "text/x-python",
   "name": "python",
   "nbconvert_exporter": "python",
   "pygments_lexer": "ipython3",
   "version": "3.8.5"
  }
 },
 "nbformat": 4,
 "nbformat_minor": 4
}
